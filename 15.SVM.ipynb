{
  "nbformat": 4,
  "nbformat_minor": 0,
  "metadata": {
    "colab": {
      "provenance": []
    },
    "kernelspec": {
      "name": "python3",
      "display_name": "Python 3"
    },
    "language_info": {
      "name": "python"
    }
  },
  "cells": [
    {
      "cell_type": "code",
      "execution_count": 4,
      "metadata": {
        "id": "R0tN7xTsjCMW"
      },
      "outputs": [],
      "source": [
        "import pandas as pd\n",
        "import numpy as np\n",
        "from sklearn.svm import SVC\n",
        "from sklearn.model_selection import GridSearchCV,RandomizedSearchCV\n",
        "\n",
        "from sklearn.metrics import accuracy_score, confusion_matrix\n",
        "from sklearn.model_selection import train_test_split, cross_val_score"
      ]
    },
    {
      "cell_type": "code",
      "source": [
        "from google.colab import files\n",
        "uploaded=files.upload()"
      ],
      "metadata": {
        "colab": {
          "base_uri": "https://localhost:8080/",
          "height": 73
        },
        "id": "kq_AiuYLj5X3",
        "outputId": "594282c1-a7c4-4f81-e4d5-870611e75575"
      },
      "execution_count": 2,
      "outputs": [
        {
          "output_type": "display_data",
          "data": {
            "text/plain": [
              "<IPython.core.display.HTML object>"
            ],
            "text/html": [
              "\n",
              "     <input type=\"file\" id=\"files-cef02c0a-b0d7-4533-ab45-87a94a5dee8f\" name=\"files[]\" multiple disabled\n",
              "        style=\"border:none\" />\n",
              "     <output id=\"result-cef02c0a-b0d7-4533-ab45-87a94a5dee8f\">\n",
              "      Upload widget is only available when the cell has been executed in the\n",
              "      current browser session. Please rerun this cell to enable.\n",
              "      </output>\n",
              "      <script>// Copyright 2017 Google LLC\n",
              "//\n",
              "// Licensed under the Apache License, Version 2.0 (the \"License\");\n",
              "// you may not use this file except in compliance with the License.\n",
              "// You may obtain a copy of the License at\n",
              "//\n",
              "//      http://www.apache.org/licenses/LICENSE-2.0\n",
              "//\n",
              "// Unless required by applicable law or agreed to in writing, software\n",
              "// distributed under the License is distributed on an \"AS IS\" BASIS,\n",
              "// WITHOUT WARRANTIES OR CONDITIONS OF ANY KIND, either express or implied.\n",
              "// See the License for the specific language governing permissions and\n",
              "// limitations under the License.\n",
              "\n",
              "/**\n",
              " * @fileoverview Helpers for google.colab Python module.\n",
              " */\n",
              "(function(scope) {\n",
              "function span(text, styleAttributes = {}) {\n",
              "  const element = document.createElement('span');\n",
              "  element.textContent = text;\n",
              "  for (const key of Object.keys(styleAttributes)) {\n",
              "    element.style[key] = styleAttributes[key];\n",
              "  }\n",
              "  return element;\n",
              "}\n",
              "\n",
              "// Max number of bytes which will be uploaded at a time.\n",
              "const MAX_PAYLOAD_SIZE = 100 * 1024;\n",
              "\n",
              "function _uploadFiles(inputId, outputId) {\n",
              "  const steps = uploadFilesStep(inputId, outputId);\n",
              "  const outputElement = document.getElementById(outputId);\n",
              "  // Cache steps on the outputElement to make it available for the next call\n",
              "  // to uploadFilesContinue from Python.\n",
              "  outputElement.steps = steps;\n",
              "\n",
              "  return _uploadFilesContinue(outputId);\n",
              "}\n",
              "\n",
              "// This is roughly an async generator (not supported in the browser yet),\n",
              "// where there are multiple asynchronous steps and the Python side is going\n",
              "// to poll for completion of each step.\n",
              "// This uses a Promise to block the python side on completion of each step,\n",
              "// then passes the result of the previous step as the input to the next step.\n",
              "function _uploadFilesContinue(outputId) {\n",
              "  const outputElement = document.getElementById(outputId);\n",
              "  const steps = outputElement.steps;\n",
              "\n",
              "  const next = steps.next(outputElement.lastPromiseValue);\n",
              "  return Promise.resolve(next.value.promise).then((value) => {\n",
              "    // Cache the last promise value to make it available to the next\n",
              "    // step of the generator.\n",
              "    outputElement.lastPromiseValue = value;\n",
              "    return next.value.response;\n",
              "  });\n",
              "}\n",
              "\n",
              "/**\n",
              " * Generator function which is called between each async step of the upload\n",
              " * process.\n",
              " * @param {string} inputId Element ID of the input file picker element.\n",
              " * @param {string} outputId Element ID of the output display.\n",
              " * @return {!Iterable<!Object>} Iterable of next steps.\n",
              " */\n",
              "function* uploadFilesStep(inputId, outputId) {\n",
              "  const inputElement = document.getElementById(inputId);\n",
              "  inputElement.disabled = false;\n",
              "\n",
              "  const outputElement = document.getElementById(outputId);\n",
              "  outputElement.innerHTML = '';\n",
              "\n",
              "  const pickedPromise = new Promise((resolve) => {\n",
              "    inputElement.addEventListener('change', (e) => {\n",
              "      resolve(e.target.files);\n",
              "    });\n",
              "  });\n",
              "\n",
              "  const cancel = document.createElement('button');\n",
              "  inputElement.parentElement.appendChild(cancel);\n",
              "  cancel.textContent = 'Cancel upload';\n",
              "  const cancelPromise = new Promise((resolve) => {\n",
              "    cancel.onclick = () => {\n",
              "      resolve(null);\n",
              "    };\n",
              "  });\n",
              "\n",
              "  // Wait for the user to pick the files.\n",
              "  const files = yield {\n",
              "    promise: Promise.race([pickedPromise, cancelPromise]),\n",
              "    response: {\n",
              "      action: 'starting',\n",
              "    }\n",
              "  };\n",
              "\n",
              "  cancel.remove();\n",
              "\n",
              "  // Disable the input element since further picks are not allowed.\n",
              "  inputElement.disabled = true;\n",
              "\n",
              "  if (!files) {\n",
              "    return {\n",
              "      response: {\n",
              "        action: 'complete',\n",
              "      }\n",
              "    };\n",
              "  }\n",
              "\n",
              "  for (const file of files) {\n",
              "    const li = document.createElement('li');\n",
              "    li.append(span(file.name, {fontWeight: 'bold'}));\n",
              "    li.append(span(\n",
              "        `(${file.type || 'n/a'}) - ${file.size} bytes, ` +\n",
              "        `last modified: ${\n",
              "            file.lastModifiedDate ? file.lastModifiedDate.toLocaleDateString() :\n",
              "                                    'n/a'} - `));\n",
              "    const percent = span('0% done');\n",
              "    li.appendChild(percent);\n",
              "\n",
              "    outputElement.appendChild(li);\n",
              "\n",
              "    const fileDataPromise = new Promise((resolve) => {\n",
              "      const reader = new FileReader();\n",
              "      reader.onload = (e) => {\n",
              "        resolve(e.target.result);\n",
              "      };\n",
              "      reader.readAsArrayBuffer(file);\n",
              "    });\n",
              "    // Wait for the data to be ready.\n",
              "    let fileData = yield {\n",
              "      promise: fileDataPromise,\n",
              "      response: {\n",
              "        action: 'continue',\n",
              "      }\n",
              "    };\n",
              "\n",
              "    // Use a chunked sending to avoid message size limits. See b/62115660.\n",
              "    let position = 0;\n",
              "    do {\n",
              "      const length = Math.min(fileData.byteLength - position, MAX_PAYLOAD_SIZE);\n",
              "      const chunk = new Uint8Array(fileData, position, length);\n",
              "      position += length;\n",
              "\n",
              "      const base64 = btoa(String.fromCharCode.apply(null, chunk));\n",
              "      yield {\n",
              "        response: {\n",
              "          action: 'append',\n",
              "          file: file.name,\n",
              "          data: base64,\n",
              "        },\n",
              "      };\n",
              "\n",
              "      let percentDone = fileData.byteLength === 0 ?\n",
              "          100 :\n",
              "          Math.round((position / fileData.byteLength) * 100);\n",
              "      percent.textContent = `${percentDone}% done`;\n",
              "\n",
              "    } while (position < fileData.byteLength);\n",
              "  }\n",
              "\n",
              "  // All done.\n",
              "  yield {\n",
              "    response: {\n",
              "      action: 'complete',\n",
              "    }\n",
              "  };\n",
              "}\n",
              "\n",
              "scope.google = scope.google || {};\n",
              "scope.google.colab = scope.google.colab || {};\n",
              "scope.google.colab._files = {\n",
              "  _uploadFiles,\n",
              "  _uploadFilesContinue,\n",
              "};\n",
              "})(self);\n",
              "</script> "
            ]
          },
          "metadata": {}
        },
        {
          "output_type": "stream",
          "name": "stdout",
          "text": [
            "Saving pima-indians-diabetes.data.csv to pima-indians-diabetes.data.csv\n"
          ]
        }
      ]
    },
    {
      "cell_type": "code",
      "source": [
        "names = ['preg', 'plas', 'pres', 'skin', 'test', 'mass', 'pedi', 'age', 'class']\n",
        "dataframe = pd.read_csv('pima-indians-diabetes.data.csv', names=names)\n",
        "array = dataframe.values\n",
        "X = array[:,0:8]\n",
        "Y = array[:,8]"
      ],
      "metadata": {
        "id": "chkHtRdfknJg"
      },
      "execution_count": 5,
      "outputs": []
    },
    {
      "cell_type": "code",
      "source": [
        "X_train, X_test, y_train, y_test = train_test_split(X,Y, test_size = 0.3)"
      ],
      "metadata": {
        "id": "jH-G9A6Wk0FJ"
      },
      "execution_count": 6,
      "outputs": []
    },
    {
      "cell_type": "code",
      "source": [
        "X_train.shape, y_train.shape, X_test.shape, y_test.shape"
      ],
      "metadata": {
        "colab": {
          "base_uri": "https://localhost:8080/"
        },
        "id": "K6ta6xb_k-MR",
        "outputId": "3c337532-3d1e-4de1-a6ef-ac2e10b4ceee"
      },
      "execution_count": 7,
      "outputs": [
        {
          "output_type": "execute_result",
          "data": {
            "text/plain": [
              "((537, 8), (537,), (231, 8), (231,))"
            ]
          },
          "metadata": {},
          "execution_count": 7
        }
      ]
    },
    {
      "cell_type": "markdown",
      "source": [
        "**Randomized Search CV**"
      ],
      "metadata": {
        "id": "nWmH-Oz2lBua"
      }
    },
    {
      "cell_type": "code",
      "source": [
        "clf = SVC()\n",
        "param_grid = [{'kernel':['linear','rbf'],'gamma':[0.5,0.1,0.01],'C':[10,0.1,0.001,0.0001] }]\n",
        "rscv = RandomizedSearchCV(clf,param_grid,cv=10,verbose=4)\n",
        "rscv.fit(X_train,y_train)"
      ],
      "metadata": {
        "colab": {
          "base_uri": "https://localhost:8080/",
          "height": 1000
        },
        "id": "HkzUJX5NlAzD",
        "outputId": "9e49ddf1-8400-4fb8-e07b-ab8ffbbce45c"
      },
      "execution_count": 8,
      "outputs": [
        {
          "output_type": "stream",
          "name": "stdout",
          "text": [
            "Fitting 10 folds for each of 10 candidates, totalling 100 fits\n",
            "[CV 1/10; 1/10] START C=10, gamma=0.01, kernel=rbf..............................\n",
            "[CV 1/10; 1/10] END C=10, gamma=0.01, kernel=rbf;, score=0.593 total time=   0.0s\n",
            "[CV 2/10; 1/10] START C=10, gamma=0.01, kernel=rbf..............................\n",
            "[CV 2/10; 1/10] END C=10, gamma=0.01, kernel=rbf;, score=0.630 total time=   0.0s\n",
            "[CV 3/10; 1/10] START C=10, gamma=0.01, kernel=rbf..............................\n",
            "[CV 3/10; 1/10] END C=10, gamma=0.01, kernel=rbf;, score=0.630 total time=   0.0s\n",
            "[CV 4/10; 1/10] START C=10, gamma=0.01, kernel=rbf..............................\n",
            "[CV 4/10; 1/10] END C=10, gamma=0.01, kernel=rbf;, score=0.667 total time=   0.0s\n",
            "[CV 5/10; 1/10] START C=10, gamma=0.01, kernel=rbf..............................\n",
            "[CV 5/10; 1/10] END C=10, gamma=0.01, kernel=rbf;, score=0.611 total time=   0.0s\n",
            "[CV 6/10; 1/10] START C=10, gamma=0.01, kernel=rbf..............................\n",
            "[CV 6/10; 1/10] END C=10, gamma=0.01, kernel=rbf;, score=0.667 total time=   0.0s\n",
            "[CV 7/10; 1/10] START C=10, gamma=0.01, kernel=rbf..............................\n",
            "[CV 7/10; 1/10] END C=10, gamma=0.01, kernel=rbf;, score=0.648 total time=   0.0s\n",
            "[CV 8/10; 1/10] START C=10, gamma=0.01, kernel=rbf..............................\n",
            "[CV 8/10; 1/10] END C=10, gamma=0.01, kernel=rbf;, score=0.623 total time=   0.0s\n",
            "[CV 9/10; 1/10] START C=10, gamma=0.01, kernel=rbf..............................\n",
            "[CV 9/10; 1/10] END C=10, gamma=0.01, kernel=rbf;, score=0.660 total time=   0.0s\n",
            "[CV 10/10; 1/10] START C=10, gamma=0.01, kernel=rbf.............................\n",
            "[CV 10/10; 1/10] END C=10, gamma=0.01, kernel=rbf;, score=0.604 total time=   0.0s\n",
            "[CV 1/10; 2/10] START C=0.1, gamma=0.01, kernel=linear..........................\n",
            "[CV 1/10; 2/10] END C=0.1, gamma=0.01, kernel=linear;, score=0.815 total time=   0.3s\n",
            "[CV 2/10; 2/10] START C=0.1, gamma=0.01, kernel=linear..........................\n",
            "[CV 2/10; 2/10] END C=0.1, gamma=0.01, kernel=linear;, score=0.759 total time=   0.5s\n",
            "[CV 3/10; 2/10] START C=0.1, gamma=0.01, kernel=linear..........................\n",
            "[CV 3/10; 2/10] END C=0.1, gamma=0.01, kernel=linear;, score=0.889 total time=   0.3s\n",
            "[CV 4/10; 2/10] START C=0.1, gamma=0.01, kernel=linear..........................\n",
            "[CV 4/10; 2/10] END C=0.1, gamma=0.01, kernel=linear;, score=0.741 total time=   0.2s\n",
            "[CV 5/10; 2/10] START C=0.1, gamma=0.01, kernel=linear..........................\n",
            "[CV 5/10; 2/10] END C=0.1, gamma=0.01, kernel=linear;, score=0.778 total time=   0.3s\n",
            "[CV 6/10; 2/10] START C=0.1, gamma=0.01, kernel=linear..........................\n",
            "[CV 6/10; 2/10] END C=0.1, gamma=0.01, kernel=linear;, score=0.722 total time=   0.3s\n",
            "[CV 7/10; 2/10] START C=0.1, gamma=0.01, kernel=linear..........................\n",
            "[CV 7/10; 2/10] END C=0.1, gamma=0.01, kernel=linear;, score=0.722 total time=   0.6s\n",
            "[CV 8/10; 2/10] START C=0.1, gamma=0.01, kernel=linear..........................\n",
            "[CV 8/10; 2/10] END C=0.1, gamma=0.01, kernel=linear;, score=0.736 total time=   0.2s\n",
            "[CV 9/10; 2/10] START C=0.1, gamma=0.01, kernel=linear..........................\n",
            "[CV 9/10; 2/10] END C=0.1, gamma=0.01, kernel=linear;, score=0.698 total time=   0.4s\n",
            "[CV 10/10; 2/10] START C=0.1, gamma=0.01, kernel=linear.........................\n",
            "[CV 10/10; 2/10] END C=0.1, gamma=0.01, kernel=linear;, score=0.774 total time=   0.2s\n",
            "[CV 1/10; 3/10] START C=0.001, gamma=0.5, kernel=rbf............................\n",
            "[CV 1/10; 3/10] END C=0.001, gamma=0.5, kernel=rbf;, score=0.648 total time=   0.0s\n",
            "[CV 2/10; 3/10] START C=0.001, gamma=0.5, kernel=rbf............................\n",
            "[CV 2/10; 3/10] END C=0.001, gamma=0.5, kernel=rbf;, score=0.648 total time=   0.0s\n",
            "[CV 3/10; 3/10] START C=0.001, gamma=0.5, kernel=rbf............................\n",
            "[CV 3/10; 3/10] END C=0.001, gamma=0.5, kernel=rbf;, score=0.648 total time=   0.0s\n",
            "[CV 4/10; 3/10] START C=0.001, gamma=0.5, kernel=rbf............................\n",
            "[CV 4/10; 3/10] END C=0.001, gamma=0.5, kernel=rbf;, score=0.630 total time=   0.0s\n",
            "[CV 5/10; 3/10] START C=0.001, gamma=0.5, kernel=rbf............................\n",
            "[CV 5/10; 3/10] END C=0.001, gamma=0.5, kernel=rbf;, score=0.630 total time=   0.0s\n",
            "[CV 6/10; 3/10] START C=0.001, gamma=0.5, kernel=rbf............................\n",
            "[CV 6/10; 3/10] END C=0.001, gamma=0.5, kernel=rbf;, score=0.630 total time=   0.0s\n",
            "[CV 7/10; 3/10] START C=0.001, gamma=0.5, kernel=rbf............................\n",
            "[CV 7/10; 3/10] END C=0.001, gamma=0.5, kernel=rbf;, score=0.630 total time=   0.0s\n",
            "[CV 8/10; 3/10] START C=0.001, gamma=0.5, kernel=rbf............................\n",
            "[CV 8/10; 3/10] END C=0.001, gamma=0.5, kernel=rbf;, score=0.642 total time=   0.0s\n",
            "[CV 9/10; 3/10] START C=0.001, gamma=0.5, kernel=rbf............................\n",
            "[CV 9/10; 3/10] END C=0.001, gamma=0.5, kernel=rbf;, score=0.642 total time=   0.0s\n",
            "[CV 10/10; 3/10] START C=0.001, gamma=0.5, kernel=rbf...........................\n",
            "[CV 10/10; 3/10] END C=0.001, gamma=0.5, kernel=rbf;, score=0.642 total time=   0.0s\n",
            "[CV 1/10; 4/10] START C=10, gamma=0.01, kernel=linear...........................\n",
            "[CV 1/10; 4/10] END C=10, gamma=0.01, kernel=linear;, score=0.796 total time=  17.4s\n",
            "[CV 2/10; 4/10] START C=10, gamma=0.01, kernel=linear...........................\n",
            "[CV 2/10; 4/10] END C=10, gamma=0.01, kernel=linear;, score=0.759 total time=  51.4s\n",
            "[CV 3/10; 4/10] START C=10, gamma=0.01, kernel=linear...........................\n",
            "[CV 3/10; 4/10] END C=10, gamma=0.01, kernel=linear;, score=0.889 total time=  19.3s\n",
            "[CV 4/10; 4/10] START C=10, gamma=0.01, kernel=linear...........................\n",
            "[CV 4/10; 4/10] END C=10, gamma=0.01, kernel=linear;, score=0.741 total time=  37.1s\n",
            "[CV 5/10; 4/10] START C=10, gamma=0.01, kernel=linear...........................\n",
            "[CV 5/10; 4/10] END C=10, gamma=0.01, kernel=linear;, score=0.778 total time=  22.9s\n",
            "[CV 6/10; 4/10] START C=10, gamma=0.01, kernel=linear...........................\n",
            "[CV 6/10; 4/10] END C=10, gamma=0.01, kernel=linear;, score=0.722 total time=  32.6s\n",
            "[CV 7/10; 4/10] START C=10, gamma=0.01, kernel=linear...........................\n",
            "[CV 7/10; 4/10] END C=10, gamma=0.01, kernel=linear;, score=0.741 total time=  41.7s\n",
            "[CV 8/10; 4/10] START C=10, gamma=0.01, kernel=linear...........................\n",
            "[CV 8/10; 4/10] END C=10, gamma=0.01, kernel=linear;, score=0.736 total time=  34.0s\n",
            "[CV 9/10; 4/10] START C=10, gamma=0.01, kernel=linear...........................\n",
            "[CV 9/10; 4/10] END C=10, gamma=0.01, kernel=linear;, score=0.679 total time=  40.2s\n",
            "[CV 10/10; 4/10] START C=10, gamma=0.01, kernel=linear..........................\n",
            "[CV 10/10; 4/10] END C=10, gamma=0.01, kernel=linear;, score=0.755 total time=  34.8s\n",
            "[CV 1/10; 5/10] START C=0.001, gamma=0.1, kernel=linear.........................\n",
            "[CV 1/10; 5/10] END C=0.001, gamma=0.1, kernel=linear;, score=0.796 total time=   0.0s\n",
            "[CV 2/10; 5/10] START C=0.001, gamma=0.1, kernel=linear.........................\n",
            "[CV 2/10; 5/10] END C=0.001, gamma=0.1, kernel=linear;, score=0.759 total time=   0.0s\n",
            "[CV 3/10; 5/10] START C=0.001, gamma=0.1, kernel=linear.........................\n",
            "[CV 3/10; 5/10] END C=0.001, gamma=0.1, kernel=linear;, score=0.852 total time=   0.0s\n",
            "[CV 4/10; 5/10] START C=0.001, gamma=0.1, kernel=linear.........................\n",
            "[CV 4/10; 5/10] END C=0.001, gamma=0.1, kernel=linear;, score=0.722 total time=   0.0s\n",
            "[CV 5/10; 5/10] START C=0.001, gamma=0.1, kernel=linear.........................\n",
            "[CV 5/10; 5/10] END C=0.001, gamma=0.1, kernel=linear;, score=0.759 total time=   0.0s\n",
            "[CV 6/10; 5/10] START C=0.001, gamma=0.1, kernel=linear.........................\n",
            "[CV 6/10; 5/10] END C=0.001, gamma=0.1, kernel=linear;, score=0.722 total time=   0.0s\n",
            "[CV 7/10; 5/10] START C=0.001, gamma=0.1, kernel=linear.........................\n",
            "[CV 7/10; 5/10] END C=0.001, gamma=0.1, kernel=linear;, score=0.741 total time=   0.0s\n",
            "[CV 8/10; 5/10] START C=0.001, gamma=0.1, kernel=linear.........................\n",
            "[CV 8/10; 5/10] END C=0.001, gamma=0.1, kernel=linear;, score=0.736 total time=   0.0s\n",
            "[CV 9/10; 5/10] START C=0.001, gamma=0.1, kernel=linear.........................\n",
            "[CV 9/10; 5/10] END C=0.001, gamma=0.1, kernel=linear;, score=0.660 total time=   0.0s\n",
            "[CV 10/10; 5/10] START C=0.001, gamma=0.1, kernel=linear........................\n",
            "[CV 10/10; 5/10] END C=0.001, gamma=0.1, kernel=linear;, score=0.792 total time=   0.0s\n",
            "[CV 1/10; 6/10] START C=0.0001, gamma=0.5, kernel=linear........................\n",
            "[CV 1/10; 6/10] END C=0.0001, gamma=0.5, kernel=linear;, score=0.778 total time=   0.0s\n",
            "[CV 2/10; 6/10] START C=0.0001, gamma=0.5, kernel=linear........................\n",
            "[CV 2/10; 6/10] END C=0.0001, gamma=0.5, kernel=linear;, score=0.759 total time=   0.0s\n",
            "[CV 3/10; 6/10] START C=0.0001, gamma=0.5, kernel=linear........................\n",
            "[CV 3/10; 6/10] END C=0.0001, gamma=0.5, kernel=linear;, score=0.852 total time=   0.0s\n",
            "[CV 4/10; 6/10] START C=0.0001, gamma=0.5, kernel=linear........................\n",
            "[CV 4/10; 6/10] END C=0.0001, gamma=0.5, kernel=linear;, score=0.741 total time=   0.0s\n",
            "[CV 5/10; 6/10] START C=0.0001, gamma=0.5, kernel=linear........................\n",
            "[CV 5/10; 6/10] END C=0.0001, gamma=0.5, kernel=linear;, score=0.722 total time=   0.0s\n",
            "[CV 6/10; 6/10] START C=0.0001, gamma=0.5, kernel=linear........................\n",
            "[CV 6/10; 6/10] END C=0.0001, gamma=0.5, kernel=linear;, score=0.759 total time=   0.0s\n",
            "[CV 7/10; 6/10] START C=0.0001, gamma=0.5, kernel=linear........................\n",
            "[CV 7/10; 6/10] END C=0.0001, gamma=0.5, kernel=linear;, score=0.741 total time=   0.0s\n",
            "[CV 8/10; 6/10] START C=0.0001, gamma=0.5, kernel=linear........................\n",
            "[CV 8/10; 6/10] END C=0.0001, gamma=0.5, kernel=linear;, score=0.736 total time=   0.0s\n",
            "[CV 9/10; 6/10] START C=0.0001, gamma=0.5, kernel=linear........................\n",
            "[CV 9/10; 6/10] END C=0.0001, gamma=0.5, kernel=linear;, score=0.623 total time=   0.0s\n",
            "[CV 10/10; 6/10] START C=0.0001, gamma=0.5, kernel=linear.......................\n",
            "[CV 10/10; 6/10] END C=0.0001, gamma=0.5, kernel=linear;, score=0.792 total time=   0.0s\n",
            "[CV 1/10; 7/10] START C=0.0001, gamma=0.1, kernel=linear........................\n",
            "[CV 1/10; 7/10] END C=0.0001, gamma=0.1, kernel=linear;, score=0.778 total time=   0.0s\n",
            "[CV 2/10; 7/10] START C=0.0001, gamma=0.1, kernel=linear........................\n",
            "[CV 2/10; 7/10] END C=0.0001, gamma=0.1, kernel=linear;, score=0.759 total time=   0.0s\n",
            "[CV 3/10; 7/10] START C=0.0001, gamma=0.1, kernel=linear........................\n",
            "[CV 3/10; 7/10] END C=0.0001, gamma=0.1, kernel=linear;, score=0.852 total time=   0.0s\n",
            "[CV 4/10; 7/10] START C=0.0001, gamma=0.1, kernel=linear........................\n",
            "[CV 4/10; 7/10] END C=0.0001, gamma=0.1, kernel=linear;, score=0.741 total time=   0.0s\n",
            "[CV 5/10; 7/10] START C=0.0001, gamma=0.1, kernel=linear........................\n",
            "[CV 5/10; 7/10] END C=0.0001, gamma=0.1, kernel=linear;, score=0.722 total time=   0.0s\n",
            "[CV 6/10; 7/10] START C=0.0001, gamma=0.1, kernel=linear........................\n",
            "[CV 6/10; 7/10] END C=0.0001, gamma=0.1, kernel=linear;, score=0.759 total time=   0.0s\n",
            "[CV 7/10; 7/10] START C=0.0001, gamma=0.1, kernel=linear........................\n",
            "[CV 7/10; 7/10] END C=0.0001, gamma=0.1, kernel=linear;, score=0.741 total time=   0.0s\n",
            "[CV 8/10; 7/10] START C=0.0001, gamma=0.1, kernel=linear........................\n",
            "[CV 8/10; 7/10] END C=0.0001, gamma=0.1, kernel=linear;, score=0.736 total time=   0.0s\n",
            "[CV 9/10; 7/10] START C=0.0001, gamma=0.1, kernel=linear........................\n",
            "[CV 9/10; 7/10] END C=0.0001, gamma=0.1, kernel=linear;, score=0.623 total time=   0.0s\n",
            "[CV 10/10; 7/10] START C=0.0001, gamma=0.1, kernel=linear.......................\n",
            "[CV 10/10; 7/10] END C=0.0001, gamma=0.1, kernel=linear;, score=0.792 total time=   0.0s\n",
            "[CV 1/10; 8/10] START C=0.1, gamma=0.5, kernel=linear...........................\n",
            "[CV 1/10; 8/10] END C=0.1, gamma=0.5, kernel=linear;, score=0.815 total time=   0.5s\n",
            "[CV 2/10; 8/10] START C=0.1, gamma=0.5, kernel=linear...........................\n",
            "[CV 2/10; 8/10] END C=0.1, gamma=0.5, kernel=linear;, score=0.759 total time=   0.9s\n",
            "[CV 3/10; 8/10] START C=0.1, gamma=0.5, kernel=linear...........................\n",
            "[CV 3/10; 8/10] END C=0.1, gamma=0.5, kernel=linear;, score=0.889 total time=   0.5s\n",
            "[CV 4/10; 8/10] START C=0.1, gamma=0.5, kernel=linear...........................\n",
            "[CV 4/10; 8/10] END C=0.1, gamma=0.5, kernel=linear;, score=0.741 total time=   0.4s\n",
            "[CV 5/10; 8/10] START C=0.1, gamma=0.5, kernel=linear...........................\n",
            "[CV 5/10; 8/10] END C=0.1, gamma=0.5, kernel=linear;, score=0.778 total time=   0.4s\n",
            "[CV 6/10; 8/10] START C=0.1, gamma=0.5, kernel=linear...........................\n",
            "[CV 6/10; 8/10] END C=0.1, gamma=0.5, kernel=linear;, score=0.722 total time=   0.4s\n",
            "[CV 7/10; 8/10] START C=0.1, gamma=0.5, kernel=linear...........................\n",
            "[CV 7/10; 8/10] END C=0.1, gamma=0.5, kernel=linear;, score=0.722 total time=   0.6s\n",
            "[CV 8/10; 8/10] START C=0.1, gamma=0.5, kernel=linear...........................\n",
            "[CV 8/10; 8/10] END C=0.1, gamma=0.5, kernel=linear;, score=0.736 total time=   0.2s\n",
            "[CV 9/10; 8/10] START C=0.1, gamma=0.5, kernel=linear...........................\n",
            "[CV 9/10; 8/10] END C=0.1, gamma=0.5, kernel=linear;, score=0.698 total time=   0.4s\n",
            "[CV 10/10; 8/10] START C=0.1, gamma=0.5, kernel=linear..........................\n",
            "[CV 10/10; 8/10] END C=0.1, gamma=0.5, kernel=linear;, score=0.774 total time=   0.2s\n",
            "[CV 1/10; 9/10] START C=0.0001, gamma=0.1, kernel=rbf...........................\n",
            "[CV 1/10; 9/10] END C=0.0001, gamma=0.1, kernel=rbf;, score=0.648 total time=   0.0s\n",
            "[CV 2/10; 9/10] START C=0.0001, gamma=0.1, kernel=rbf...........................\n",
            "[CV 2/10; 9/10] END C=0.0001, gamma=0.1, kernel=rbf;, score=0.648 total time=   0.0s\n",
            "[CV 3/10; 9/10] START C=0.0001, gamma=0.1, kernel=rbf...........................\n",
            "[CV 3/10; 9/10] END C=0.0001, gamma=0.1, kernel=rbf;, score=0.648 total time=   0.0s\n",
            "[CV 4/10; 9/10] START C=0.0001, gamma=0.1, kernel=rbf...........................\n",
            "[CV 4/10; 9/10] END C=0.0001, gamma=0.1, kernel=rbf;, score=0.630 total time=   0.0s\n",
            "[CV 5/10; 9/10] START C=0.0001, gamma=0.1, kernel=rbf...........................\n",
            "[CV 5/10; 9/10] END C=0.0001, gamma=0.1, kernel=rbf;, score=0.630 total time=   0.0s\n",
            "[CV 6/10; 9/10] START C=0.0001, gamma=0.1, kernel=rbf...........................\n",
            "[CV 6/10; 9/10] END C=0.0001, gamma=0.1, kernel=rbf;, score=0.630 total time=   0.0s\n",
            "[CV 7/10; 9/10] START C=0.0001, gamma=0.1, kernel=rbf...........................\n",
            "[CV 7/10; 9/10] END C=0.0001, gamma=0.1, kernel=rbf;, score=0.630 total time=   0.0s\n",
            "[CV 8/10; 9/10] START C=0.0001, gamma=0.1, kernel=rbf...........................\n",
            "[CV 8/10; 9/10] END C=0.0001, gamma=0.1, kernel=rbf;, score=0.642 total time=   0.0s\n",
            "[CV 9/10; 9/10] START C=0.0001, gamma=0.1, kernel=rbf...........................\n",
            "[CV 9/10; 9/10] END C=0.0001, gamma=0.1, kernel=rbf;, score=0.642 total time=   0.0s\n",
            "[CV 10/10; 9/10] START C=0.0001, gamma=0.1, kernel=rbf..........................\n",
            "[CV 10/10; 9/10] END C=0.0001, gamma=0.1, kernel=rbf;, score=0.642 total time=   0.0s\n",
            "[CV 1/10; 10/10] START C=0.0001, gamma=0.01, kernel=linear......................\n",
            "[CV 1/10; 10/10] END C=0.0001, gamma=0.01, kernel=linear;, score=0.778 total time=   0.0s\n",
            "[CV 2/10; 10/10] START C=0.0001, gamma=0.01, kernel=linear......................\n",
            "[CV 2/10; 10/10] END C=0.0001, gamma=0.01, kernel=linear;, score=0.759 total time=   0.0s\n",
            "[CV 3/10; 10/10] START C=0.0001, gamma=0.01, kernel=linear......................\n",
            "[CV 3/10; 10/10] END C=0.0001, gamma=0.01, kernel=linear;, score=0.852 total time=   0.0s\n",
            "[CV 4/10; 10/10] START C=0.0001, gamma=0.01, kernel=linear......................\n",
            "[CV 4/10; 10/10] END C=0.0001, gamma=0.01, kernel=linear;, score=0.741 total time=   0.0s\n",
            "[CV 5/10; 10/10] START C=0.0001, gamma=0.01, kernel=linear......................\n",
            "[CV 5/10; 10/10] END C=0.0001, gamma=0.01, kernel=linear;, score=0.722 total time=   0.0s\n",
            "[CV 6/10; 10/10] START C=0.0001, gamma=0.01, kernel=linear......................\n",
            "[CV 6/10; 10/10] END C=0.0001, gamma=0.01, kernel=linear;, score=0.759 total time=   0.0s\n",
            "[CV 7/10; 10/10] START C=0.0001, gamma=0.01, kernel=linear......................\n",
            "[CV 7/10; 10/10] END C=0.0001, gamma=0.01, kernel=linear;, score=0.741 total time=   0.0s\n",
            "[CV 8/10; 10/10] START C=0.0001, gamma=0.01, kernel=linear......................\n",
            "[CV 8/10; 10/10] END C=0.0001, gamma=0.01, kernel=linear;, score=0.736 total time=   0.0s\n",
            "[CV 9/10; 10/10] START C=0.0001, gamma=0.01, kernel=linear......................\n",
            "[CV 9/10; 10/10] END C=0.0001, gamma=0.01, kernel=linear;, score=0.623 total time=   0.0s\n",
            "[CV 10/10; 10/10] START C=0.0001, gamma=0.01, kernel=linear.....................\n",
            "[CV 10/10; 10/10] END C=0.0001, gamma=0.01, kernel=linear;, score=0.792 total time=   0.0s\n"
          ]
        },
        {
          "output_type": "execute_result",
          "data": {
            "text/plain": [
              "RandomizedSearchCV(cv=10, estimator=SVC(),\n",
              "                   param_distributions=[{'C': [10, 0.1, 0.001, 0.0001],\n",
              "                                         'gamma': [0.5, 0.1, 0.01],\n",
              "                                         'kernel': ['linear', 'rbf']}],\n",
              "                   verbose=300)"
            ],
            "text/html": [
              "<style>#sk-container-id-1 {color: black;background-color: white;}#sk-container-id-1 pre{padding: 0;}#sk-container-id-1 div.sk-toggleable {background-color: white;}#sk-container-id-1 label.sk-toggleable__label {cursor: pointer;display: block;width: 100%;margin-bottom: 0;padding: 0.3em;box-sizing: border-box;text-align: center;}#sk-container-id-1 label.sk-toggleable__label-arrow:before {content: \"▸\";float: left;margin-right: 0.25em;color: #696969;}#sk-container-id-1 label.sk-toggleable__label-arrow:hover:before {color: black;}#sk-container-id-1 div.sk-estimator:hover label.sk-toggleable__label-arrow:before {color: black;}#sk-container-id-1 div.sk-toggleable__content {max-height: 0;max-width: 0;overflow: hidden;text-align: left;background-color: #f0f8ff;}#sk-container-id-1 div.sk-toggleable__content pre {margin: 0.2em;color: black;border-radius: 0.25em;background-color: #f0f8ff;}#sk-container-id-1 input.sk-toggleable__control:checked~div.sk-toggleable__content {max-height: 200px;max-width: 100%;overflow: auto;}#sk-container-id-1 input.sk-toggleable__control:checked~label.sk-toggleable__label-arrow:before {content: \"▾\";}#sk-container-id-1 div.sk-estimator input.sk-toggleable__control:checked~label.sk-toggleable__label {background-color: #d4ebff;}#sk-container-id-1 div.sk-label input.sk-toggleable__control:checked~label.sk-toggleable__label {background-color: #d4ebff;}#sk-container-id-1 input.sk-hidden--visually {border: 0;clip: rect(1px 1px 1px 1px);clip: rect(1px, 1px, 1px, 1px);height: 1px;margin: -1px;overflow: hidden;padding: 0;position: absolute;width: 1px;}#sk-container-id-1 div.sk-estimator {font-family: monospace;background-color: #f0f8ff;border: 1px dotted black;border-radius: 0.25em;box-sizing: border-box;margin-bottom: 0.5em;}#sk-container-id-1 div.sk-estimator:hover {background-color: #d4ebff;}#sk-container-id-1 div.sk-parallel-item::after {content: \"\";width: 100%;border-bottom: 1px solid gray;flex-grow: 1;}#sk-container-id-1 div.sk-label:hover label.sk-toggleable__label {background-color: #d4ebff;}#sk-container-id-1 div.sk-serial::before {content: \"\";position: absolute;border-left: 1px solid gray;box-sizing: border-box;top: 0;bottom: 0;left: 50%;z-index: 0;}#sk-container-id-1 div.sk-serial {display: flex;flex-direction: column;align-items: center;background-color: white;padding-right: 0.2em;padding-left: 0.2em;position: relative;}#sk-container-id-1 div.sk-item {position: relative;z-index: 1;}#sk-container-id-1 div.sk-parallel {display: flex;align-items: stretch;justify-content: center;background-color: white;position: relative;}#sk-container-id-1 div.sk-item::before, #sk-container-id-1 div.sk-parallel-item::before {content: \"\";position: absolute;border-left: 1px solid gray;box-sizing: border-box;top: 0;bottom: 0;left: 50%;z-index: -1;}#sk-container-id-1 div.sk-parallel-item {display: flex;flex-direction: column;z-index: 1;position: relative;background-color: white;}#sk-container-id-1 div.sk-parallel-item:first-child::after {align-self: flex-end;width: 50%;}#sk-container-id-1 div.sk-parallel-item:last-child::after {align-self: flex-start;width: 50%;}#sk-container-id-1 div.sk-parallel-item:only-child::after {width: 0;}#sk-container-id-1 div.sk-dashed-wrapped {border: 1px dashed gray;margin: 0 0.4em 0.5em 0.4em;box-sizing: border-box;padding-bottom: 0.4em;background-color: white;}#sk-container-id-1 div.sk-label label {font-family: monospace;font-weight: bold;display: inline-block;line-height: 1.2em;}#sk-container-id-1 div.sk-label-container {text-align: center;}#sk-container-id-1 div.sk-container {/* jupyter's `normalize.less` sets `[hidden] { display: none; }` but bootstrap.min.css set `[hidden] { display: none !important; }` so we also need the `!important` here to be able to override the default hidden behavior on the sphinx rendered scikit-learn.org. See: https://github.com/scikit-learn/scikit-learn/issues/21755 */display: inline-block !important;position: relative;}#sk-container-id-1 div.sk-text-repr-fallback {display: none;}</style><div id=\"sk-container-id-1\" class=\"sk-top-container\"><div class=\"sk-text-repr-fallback\"><pre>RandomizedSearchCV(cv=10, estimator=SVC(),\n",
              "                   param_distributions=[{&#x27;C&#x27;: [10, 0.1, 0.001, 0.0001],\n",
              "                                         &#x27;gamma&#x27;: [0.5, 0.1, 0.01],\n",
              "                                         &#x27;kernel&#x27;: [&#x27;linear&#x27;, &#x27;rbf&#x27;]}],\n",
              "                   verbose=300)</pre><b>In a Jupyter environment, please rerun this cell to show the HTML representation or trust the notebook. <br />On GitHub, the HTML representation is unable to render, please try loading this page with nbviewer.org.</b></div><div class=\"sk-container\" hidden><div class=\"sk-item sk-dashed-wrapped\"><div class=\"sk-label-container\"><div class=\"sk-label sk-toggleable\"><input class=\"sk-toggleable__control sk-hidden--visually\" id=\"sk-estimator-id-1\" type=\"checkbox\" ><label for=\"sk-estimator-id-1\" class=\"sk-toggleable__label sk-toggleable__label-arrow\">RandomizedSearchCV</label><div class=\"sk-toggleable__content\"><pre>RandomizedSearchCV(cv=10, estimator=SVC(),\n",
              "                   param_distributions=[{&#x27;C&#x27;: [10, 0.1, 0.001, 0.0001],\n",
              "                                         &#x27;gamma&#x27;: [0.5, 0.1, 0.01],\n",
              "                                         &#x27;kernel&#x27;: [&#x27;linear&#x27;, &#x27;rbf&#x27;]}],\n",
              "                   verbose=300)</pre></div></div></div><div class=\"sk-parallel\"><div class=\"sk-parallel-item\"><div class=\"sk-item\"><div class=\"sk-label-container\"><div class=\"sk-label sk-toggleable\"><input class=\"sk-toggleable__control sk-hidden--visually\" id=\"sk-estimator-id-2\" type=\"checkbox\" ><label for=\"sk-estimator-id-2\" class=\"sk-toggleable__label sk-toggleable__label-arrow\">estimator: SVC</label><div class=\"sk-toggleable__content\"><pre>SVC()</pre></div></div></div><div class=\"sk-serial\"><div class=\"sk-item\"><div class=\"sk-estimator sk-toggleable\"><input class=\"sk-toggleable__control sk-hidden--visually\" id=\"sk-estimator-id-3\" type=\"checkbox\" ><label for=\"sk-estimator-id-3\" class=\"sk-toggleable__label sk-toggleable__label-arrow\">SVC</label><div class=\"sk-toggleable__content\"><pre>SVC()</pre></div></div></div></div></div></div></div></div></div></div>"
            ]
          },
          "metadata": {},
          "execution_count": 8
        }
      ]
    },
    {
      "cell_type": "code",
      "source": [
        "rscv.best_params_ , rscv.best_score_"
      ],
      "metadata": {
        "colab": {
          "base_uri": "https://localhost:8080/"
        },
        "id": "w-tHsd0vlOqy",
        "outputId": "1fdcae06-3145-43fc-eb43-748b6218c310"
      },
      "execution_count": 9,
      "outputs": [
        {
          "output_type": "execute_result",
          "data": {
            "text/plain": [
              "({'kernel': 'linear', 'gamma': 0.01, 'C': 0.1}, 0.7633473095737247)"
            ]
          },
          "metadata": {},
          "execution_count": 9
        }
      ]
    },
    {
      "cell_type": "code",
      "source": [
        "clf = SVC(kernel='linear',C=0.1)\n",
        "clf.fit(X_train , y_train)\n",
        "y_pred = clf.predict(X_test)\n",
        "acc = accuracy_score(y_test, y_pred) * 100\n",
        "print(\"Accuracy =\", acc)\n",
        "confusion_matrix(y_test, y_pred)"
      ],
      "metadata": {
        "colab": {
          "base_uri": "https://localhost:8080/"
        },
        "id": "yjcsQanHoCuN",
        "outputId": "b701ff84-cb6a-4a63-d5fd-0f19a0c9e21a"
      },
      "execution_count": 10,
      "outputs": [
        {
          "output_type": "stream",
          "name": "stdout",
          "text": [
            "Accuracy = 79.65367965367966\n"
          ]
        },
        {
          "output_type": "execute_result",
          "data": {
            "text/plain": [
              "array([[142,  15],\n",
              "       [ 32,  42]])"
            ]
          },
          "metadata": {},
          "execution_count": 10
        }
      ]
    }
  ]
}